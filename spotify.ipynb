{
 "cells": [
  {
   "cell_type": "code",
   "execution_count": null,
   "id": "b453282d-20e4-4c7b-be48-df466ee40bc4",
   "metadata": {},
   "outputs": [],
   "source": [
    "import pandas as pd \n",
    "import numpy as np \n",
    "import matplotlib.pyplot as plt \n",
    "import plotly.express as px\n",
    "from plotly.offline import iplot\n",
    "from plotly.subplots import make_subplots\n",
    "import seaborn as sns "
   ]
  },
  {
   "cell_type": "code",
   "execution_count": null,
   "id": "a545ca09-6ba0-40b4-980e-3d54a9666c37",
   "metadata": {},
   "outputs": [],
   "source": [
    "df = pd.read_csv('Spotify.csv')"
   ]
  },
  {
   "cell_type": "code",
   "execution_count": null,
   "id": "15a9a6de-29eb-4dba-a0fb-a6c84f41cf05",
   "metadata": {},
   "outputs": [],
   "source": [
    "df.head()"
   ]
  },
  {
   "cell_type": "code",
   "execution_count": null,
   "id": "00bbf04c-867c-4fb8-955d-0ca9c404a13a",
   "metadata": {},
   "outputs": [],
   "source": [
    "df.tail()"
   ]
  },
  {
   "cell_type": "code",
   "execution_count": null,
   "id": "29a9d011-86e8-429e-8a8b-5ac8c2720f04",
   "metadata": {},
   "outputs": [],
   "source": [
    "df.info()"
   ]
  },
  {
   "cell_type": "code",
   "execution_count": null,
   "id": "fd9efb66-7604-44e2-b96e-c2ff047bb43b",
   "metadata": {},
   "outputs": [],
   "source": [
    "df.shape"
   ]
  },
  {
   "cell_type": "code",
   "execution_count": null,
   "id": "0d8ef90f-911d-42ff-9039-358a1076344c",
   "metadata": {},
   "outputs": [],
   "source": [
    "df.describe()"
   ]
  },
  {
   "cell_type": "code",
   "execution_count": null,
   "id": "d90e470b-2494-44c0-9cd6-ed73113041e3",
   "metadata": {},
   "outputs": [],
   "source": [
    "df['artist'].unique()"
   ]
  },
  {
   "cell_type": "code",
   "execution_count": null,
   "id": "fe643a46-d6b0-4c8a-9e7a-897c910f5ea5",
   "metadata": {},
   "outputs": [],
   "source": [
    "df['artist'].nunique()"
   ]
  },
  {
   "cell_type": "code",
   "execution_count": null,
   "id": "7fc7ebe8-1df5-478f-8e9d-2c3ac10d2324",
   "metadata": {},
   "outputs": [],
   "source": [
    "df['song'].duplicated().sum()"
   ]
  },
  {
   "cell_type": "code",
   "execution_count": null,
   "id": "f43bd58f-4a8f-466b-a1a7-8f0edafcdd08",
   "metadata": {},
   "outputs": [],
   "source": [
    "songs_per_years = df['year'].value_counts().sort_index()\n",
    "songs_per_years"
   ]
  },
  {
   "cell_type": "code",
   "execution_count": null,
   "id": "bfa4e371-0c6b-44ae-bacc-dc67cc640d17",
   "metadata": {},
   "outputs": [],
   "source": [
    "songs_per_years = df['year'].value_counts().sort_index()\n",
    "\n",
    "iplot(px.bar(songs_per_years, \n",
    "       title='Number of songs per year', \n",
    "       text_auto=True,\n",
    "       labels=dict(index='year',value='Songs'),\n",
    "       color_discrete_sequence=['#1DB954']).update_xaxes(type='category')\n",
    "     )"
   ]
  },
  {
   "cell_type": "code",
   "execution_count": null,
   "id": "928d1b53-76f9-471f-bc83-b7909d35c41d",
   "metadata": {},
   "outputs": [],
   "source": [
    "artists = df['artist'].value_counts()\n",
    "artists"
   ]
  },
  {
   "cell_type": "code",
   "execution_count": null,
   "id": "e11e1f5a-4214-4128-ae13-cf4f1d4f2f42",
   "metadata": {},
   "outputs": [],
   "source": [
    "iplot(px.pie(values=[artists[:50].sum(), 2000-artists[:50].sum()], \n",
    "       names=['top 50 artists',f'other {835-50} artists'], \n",
    "       title=\"How many songs do the top 50 artists have?\",\n",
    "       color_discrete_sequence = ['#4287f5', '#f54287']\n",
    "      ).update_traces(textinfo='value'))"
   ]
  },
  {
   "cell_type": "code",
   "execution_count": null,
   "id": "653450dd-ff26-4d32-9dff-e66dd924e791",
   "metadata": {},
   "outputs": [],
   "source": [
    "artists_with_one_song = artists.loc[lambda x:x == 1]\n",
    "len(artists_with_one_song)"
   ]
  },
  {
   "cell_type": "code",
   "execution_count": null,
   "id": "8e19b380-5cdd-40b0-8935-1485759f78ed",
   "metadata": {},
   "outputs": [],
   "source": [
    "len(artists) - len(artists_with_one_song)"
   ]
  },
  {
   "cell_type": "code",
   "execution_count": null,
   "id": "4879f485-f386-4f5b-b74b-30b8ec06c0f0",
   "metadata": {},
   "outputs": [],
   "source": [
    "iplot(px.pie(values=[len(artists_with_one_song), len(artists)-len(artists_with_one_song)],\n",
    "             names=['1 song', '>1 songs'], \n",
    "             title=\"Artists with 1 top hit VS Artists with >1 top hit\",\n",
    "             color_discrete_sequence=['#4287f5', '#f54287']\n",
    "      ).update_traces(textinfo='label'))"
   ]
  },
  {
   "cell_type": "code",
   "execution_count": null,
   "id": "9059df5e-fc67-4faa-9eec-b1c4eaaa11c9",
   "metadata": {},
   "outputs": [],
   "source": [
    "artist_df = df[['artist', 'popularity']].groupby('artist').mean().sort_values(by='artist')\n",
    "artists = artists.sort_index()\n",
    "\n",
    "artist_df['total songs'] = artists.values\n",
    "\n",
    "artist_df.sort_values(by='total songs',ascending=False, inplace=True)\n",
    "\n",
    "artist_df.reset_index(inplace=True)\n",
    "\n",
    "artist_df"
   ]
  },
  {
   "cell_type": "code",
   "execution_count": null,
   "id": "2f4b6b82-5e87-4398-b291-2642d148ffa0",
   "metadata": {},
   "outputs": [],
   "source": [
    "plt.figure(figsize=(10,6))\n",
    "sns.regplot(data = df, y= \"loudness\", x = \"energy\", color = \"c\").set(title=\"loudness vs Energy\")"
   ]
  },
  {
   "cell_type": "code",
   "execution_count": null,
   "id": "114abae3-f9c6-4d92-bf6b-09d3c2b048f0",
   "metadata": {},
   "outputs": [],
   "source": [
    "plt.figure(figsize=(10,6))\n",
    "sns.regplot(data = df, y= \"popularity\", x = \"acousticness\", color = \"b\").set(title=\"popularity vs acousticness\")"
   ]
  },
  {
   "cell_type": "code",
   "execution_count": null,
   "id": "c8cd1645-c39f-4e8c-92e2-3b362a11c63e",
   "metadata": {},
   "outputs": [],
   "source": [
    "total_dr = df_tracks.duration\n",
    "fig_dims = (18, 7)\n",
    "fig, ax = plt.subplots(figsize=fig_dims)\n",
    "\n",
    "sns.barplot(x=years, y=total_dr, ax=ax, errwidth=False)\n",
    "plt.title(\"Year vs Duration\")\n",
    "plt.xticks(rotation=90)\n",
    "\n",
    "plt.show()"
   ]
  },
  {
   "cell_type": "code",
   "execution_count": null,
   "id": "7cec010d-9541-4f74-ba0e-5450c9ce3201",
   "metadata": {},
   "outputs": [],
   "source": [
    "sns.set_style(style = \"darkgrid\")\n",
    "plt.figure(figsize=(10,5))\n",
    "famous=df_genre.sort_values(\"popularity\", ascending = False).head(10)\n",
    "sns.barplot(y= 'genre', x='popularity', data = famous).set(title= \"Top 5 Genres by Popularity\")"
   ]
  },
  {
   "cell_type": "code",
   "execution_count": null,
   "id": "3a50cb83-bd14-4dc6-8063-f85cb93fa780",
   "metadata": {},
   "outputs": [],
   "source": []
  }
 ],
 "metadata": {
  "kernelspec": {
   "display_name": "Python 3 (ipykernel)",
   "language": "python",
   "name": "python3"
  },
  "language_info": {
   "codemirror_mode": {
    "name": "ipython",
    "version": 3
   },
   "file_extension": ".py",
   "mimetype": "text/x-python",
   "name": "python",
   "nbconvert_exporter": "python",
   "pygments_lexer": "ipython3",
   "version": "3.12.4"
  }
 },
 "nbformat": 4,
 "nbformat_minor": 5
}
